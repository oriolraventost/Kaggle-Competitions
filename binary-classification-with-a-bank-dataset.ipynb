{
 "cells": [
  {
   "cell_type": "markdown",
   "id": "4b7328db",
   "metadata": {
    "papermill": {
     "duration": 0.003511,
     "end_time": "2025-09-01T11:42:15.538556",
     "exception": false,
     "start_time": "2025-09-01T11:42:15.535045",
     "status": "completed"
    },
    "tags": []
   },
   "source": [
    "### <span style=\"color:darkred\"> 1. Introduction\n",
    "\n",
    "This notebook presents a solution to the [Playground Series - Season 5, Episode 8](kaggle.com/competitions/playground-series-s5e8/overview) Kaggle competition, held in August 2025. The goal is to predict the probability that a client subscribes to a bank term deposit. Submissions are evaluated using the ROC AUC between the predicted probabilities and the observed target.\n",
    "\n",
    "The workflow begins by importing the necessary libraries for the project. We then load and inspect the first few rows of the training and testing datasets. Next, we prepare the features for modeling: the target is stored in a separate variable, and string features are converted to the categorical data type.\n",
    "\n",
    "Two models are trained: XGBoost and LightGBM, both with tuned hyperparameters. We use stratified 5-fold cross-validation, which ensures each fold maintains the original target distribution. In each fold, both models are trained and used to generate out-of-fold predictions, as well as predictions on the test set, the latter averaged across folds.\n",
    "\n",
    "The cross-validation ROC AUC score is then calculated by comparing the out-of-fold predictions with the true targets. Predictions from two public notebooks — both using LightGBM with advanced hyperparameter tuning — are loaded and blended with our own averaged predictions using weighted averaging.\n",
    "\n",
    "Finally, we generate a CSV file formatted for submission to the competition.\n",
    "\n",
    "### <span style=\"color:darkred\"> 2. Import Libraries\n",
    "\n",
    "In this step, we import the libraries used for data manipulation, model training, cross-validation, and evaluation. NumPy and Pandas handle data manipulation. LGBMClassifier from LightGBM and XGBClassifier from XGBoost are imported for model training. StratifiedKFold is imported from scikit-learn to perform stratified cross-validation, and roc_auc_score for evaluating model performance."
   ]
  },
  {
   "cell_type": "code",
   "execution_count": 1,
   "id": "4c2275d7",
   "metadata": {
    "_cell_guid": "b1076dfc-b9ad-4769-8c92-a6c4dae69d19",
    "_uuid": "8f2839f25d086af736a60e9eeb907d3b93b6e0e5",
    "execution": {
     "iopub.execute_input": "2025-09-01T11:42:15.545091Z",
     "iopub.status.busy": "2025-09-01T11:42:15.544835Z",
     "iopub.status.idle": "2025-09-01T11:42:22.646109Z",
     "shell.execute_reply": "2025-09-01T11:42:22.645549Z"
    },
    "papermill": {
     "duration": 7.106087,
     "end_time": "2025-09-01T11:42:22.647411",
     "exception": false,
     "start_time": "2025-09-01T11:42:15.541324",
     "status": "completed"
    },
    "tags": []
   },
   "outputs": [],
   "source": [
    "# ===== Import Libraries =====\n",
    "import numpy as np\n",
    "import pandas as pd\n",
    "from xgboost import XGBClassifier\n",
    "from lightgbm import LGBMClassifier\n",
    "from sklearn.model_selection import StratifiedKFold\n",
    "from sklearn.metrics import roc_auc_score"
   ]
  },
  {
   "cell_type": "markdown",
   "id": "7a7373a5",
   "metadata": {
    "papermill": {
     "duration": 0.002442,
     "end_time": "2025-09-01T11:42:22.652922",
     "exception": false,
     "start_time": "2025-09-01T11:42:22.650480",
     "status": "completed"
    },
    "tags": []
   },
   "source": [
    "### <span style=\"color:darkred\"> 3. Load and Inspect Data\n",
    "\n",
    "The following code reads the CSV files containing the training and testing datasets and loads them into pandas DataFrames. It also displays the first few rows of each to better understand their structure and contents."
   ]
  },
  {
   "cell_type": "code",
   "execution_count": 2,
   "id": "43155d6f",
   "metadata": {
    "execution": {
     "iopub.execute_input": "2025-09-01T11:42:22.659143Z",
     "iopub.status.busy": "2025-09-01T11:42:22.658681Z",
     "iopub.status.idle": "2025-09-01T11:42:25.001608Z",
     "shell.execute_reply": "2025-09-01T11:42:25.000908Z"
    },
    "papermill": {
     "duration": 2.347389,
     "end_time": "2025-09-01T11:42:25.002871",
     "exception": false,
     "start_time": "2025-09-01T11:42:22.655482",
     "status": "completed"
    },
    "tags": []
   },
   "outputs": [
    {
     "name": "stdout",
     "output_type": "stream",
     "text": [
      "--------------------------------------------------\n",
      "TRAINING DATA:\n"
     ]
    },
    {
     "data": {
      "text/html": [
       "<div>\n",
       "<style scoped>\n",
       "    .dataframe tbody tr th:only-of-type {\n",
       "        vertical-align: middle;\n",
       "    }\n",
       "\n",
       "    .dataframe tbody tr th {\n",
       "        vertical-align: top;\n",
       "    }\n",
       "\n",
       "    .dataframe thead th {\n",
       "        text-align: right;\n",
       "    }\n",
       "</style>\n",
       "<table border=\"1\" class=\"dataframe\">\n",
       "  <thead>\n",
       "    <tr style=\"text-align: right;\">\n",
       "      <th></th>\n",
       "      <th>id</th>\n",
       "      <th>age</th>\n",
       "      <th>job</th>\n",
       "      <th>marital</th>\n",
       "      <th>education</th>\n",
       "      <th>default</th>\n",
       "      <th>balance</th>\n",
       "      <th>housing</th>\n",
       "      <th>loan</th>\n",
       "      <th>contact</th>\n",
       "      <th>day</th>\n",
       "      <th>month</th>\n",
       "      <th>duration</th>\n",
       "      <th>campaign</th>\n",
       "      <th>pdays</th>\n",
       "      <th>previous</th>\n",
       "      <th>poutcome</th>\n",
       "      <th>y</th>\n",
       "    </tr>\n",
       "  </thead>\n",
       "  <tbody>\n",
       "    <tr>\n",
       "      <th>0</th>\n",
       "      <td>0</td>\n",
       "      <td>42</td>\n",
       "      <td>technician</td>\n",
       "      <td>married</td>\n",
       "      <td>secondary</td>\n",
       "      <td>no</td>\n",
       "      <td>7</td>\n",
       "      <td>no</td>\n",
       "      <td>no</td>\n",
       "      <td>cellular</td>\n",
       "      <td>25</td>\n",
       "      <td>aug</td>\n",
       "      <td>117</td>\n",
       "      <td>3</td>\n",
       "      <td>-1</td>\n",
       "      <td>0</td>\n",
       "      <td>unknown</td>\n",
       "      <td>0</td>\n",
       "    </tr>\n",
       "    <tr>\n",
       "      <th>1</th>\n",
       "      <td>1</td>\n",
       "      <td>38</td>\n",
       "      <td>blue-collar</td>\n",
       "      <td>married</td>\n",
       "      <td>secondary</td>\n",
       "      <td>no</td>\n",
       "      <td>514</td>\n",
       "      <td>no</td>\n",
       "      <td>no</td>\n",
       "      <td>unknown</td>\n",
       "      <td>18</td>\n",
       "      <td>jun</td>\n",
       "      <td>185</td>\n",
       "      <td>1</td>\n",
       "      <td>-1</td>\n",
       "      <td>0</td>\n",
       "      <td>unknown</td>\n",
       "      <td>0</td>\n",
       "    </tr>\n",
       "    <tr>\n",
       "      <th>2</th>\n",
       "      <td>2</td>\n",
       "      <td>36</td>\n",
       "      <td>blue-collar</td>\n",
       "      <td>married</td>\n",
       "      <td>secondary</td>\n",
       "      <td>no</td>\n",
       "      <td>602</td>\n",
       "      <td>yes</td>\n",
       "      <td>no</td>\n",
       "      <td>unknown</td>\n",
       "      <td>14</td>\n",
       "      <td>may</td>\n",
       "      <td>111</td>\n",
       "      <td>2</td>\n",
       "      <td>-1</td>\n",
       "      <td>0</td>\n",
       "      <td>unknown</td>\n",
       "      <td>0</td>\n",
       "    </tr>\n",
       "    <tr>\n",
       "      <th>3</th>\n",
       "      <td>3</td>\n",
       "      <td>27</td>\n",
       "      <td>student</td>\n",
       "      <td>single</td>\n",
       "      <td>secondary</td>\n",
       "      <td>no</td>\n",
       "      <td>34</td>\n",
       "      <td>yes</td>\n",
       "      <td>no</td>\n",
       "      <td>unknown</td>\n",
       "      <td>28</td>\n",
       "      <td>may</td>\n",
       "      <td>10</td>\n",
       "      <td>2</td>\n",
       "      <td>-1</td>\n",
       "      <td>0</td>\n",
       "      <td>unknown</td>\n",
       "      <td>0</td>\n",
       "    </tr>\n",
       "    <tr>\n",
       "      <th>4</th>\n",
       "      <td>4</td>\n",
       "      <td>26</td>\n",
       "      <td>technician</td>\n",
       "      <td>married</td>\n",
       "      <td>secondary</td>\n",
       "      <td>no</td>\n",
       "      <td>889</td>\n",
       "      <td>yes</td>\n",
       "      <td>no</td>\n",
       "      <td>cellular</td>\n",
       "      <td>3</td>\n",
       "      <td>feb</td>\n",
       "      <td>902</td>\n",
       "      <td>1</td>\n",
       "      <td>-1</td>\n",
       "      <td>0</td>\n",
       "      <td>unknown</td>\n",
       "      <td>1</td>\n",
       "    </tr>\n",
       "  </tbody>\n",
       "</table>\n",
       "</div>"
      ],
      "text/plain": [
       "   id  age          job  marital  education default  balance housing loan  \\\n",
       "0   0   42   technician  married  secondary      no        7      no   no   \n",
       "1   1   38  blue-collar  married  secondary      no      514      no   no   \n",
       "2   2   36  blue-collar  married  secondary      no      602     yes   no   \n",
       "3   3   27      student   single  secondary      no       34     yes   no   \n",
       "4   4   26   technician  married  secondary      no      889     yes   no   \n",
       "\n",
       "    contact  day month  duration  campaign  pdays  previous poutcome  y  \n",
       "0  cellular   25   aug       117         3     -1         0  unknown  0  \n",
       "1   unknown   18   jun       185         1     -1         0  unknown  0  \n",
       "2   unknown   14   may       111         2     -1         0  unknown  0  \n",
       "3   unknown   28   may        10         2     -1         0  unknown  0  \n",
       "4  cellular    3   feb       902         1     -1         0  unknown  1  "
      ]
     },
     "metadata": {},
     "output_type": "display_data"
    },
    {
     "name": "stdout",
     "output_type": "stream",
     "text": [
      "--------------------------------------------------\n",
      "TESTING DATA:\n"
     ]
    },
    {
     "data": {
      "text/html": [
       "<div>\n",
       "<style scoped>\n",
       "    .dataframe tbody tr th:only-of-type {\n",
       "        vertical-align: middle;\n",
       "    }\n",
       "\n",
       "    .dataframe tbody tr th {\n",
       "        vertical-align: top;\n",
       "    }\n",
       "\n",
       "    .dataframe thead th {\n",
       "        text-align: right;\n",
       "    }\n",
       "</style>\n",
       "<table border=\"1\" class=\"dataframe\">\n",
       "  <thead>\n",
       "    <tr style=\"text-align: right;\">\n",
       "      <th></th>\n",
       "      <th>id</th>\n",
       "      <th>age</th>\n",
       "      <th>job</th>\n",
       "      <th>marital</th>\n",
       "      <th>education</th>\n",
       "      <th>default</th>\n",
       "      <th>balance</th>\n",
       "      <th>housing</th>\n",
       "      <th>loan</th>\n",
       "      <th>contact</th>\n",
       "      <th>day</th>\n",
       "      <th>month</th>\n",
       "      <th>duration</th>\n",
       "      <th>campaign</th>\n",
       "      <th>pdays</th>\n",
       "      <th>previous</th>\n",
       "      <th>poutcome</th>\n",
       "    </tr>\n",
       "  </thead>\n",
       "  <tbody>\n",
       "    <tr>\n",
       "      <th>0</th>\n",
       "      <td>750000</td>\n",
       "      <td>32</td>\n",
       "      <td>blue-collar</td>\n",
       "      <td>married</td>\n",
       "      <td>secondary</td>\n",
       "      <td>no</td>\n",
       "      <td>1397</td>\n",
       "      <td>yes</td>\n",
       "      <td>no</td>\n",
       "      <td>unknown</td>\n",
       "      <td>21</td>\n",
       "      <td>may</td>\n",
       "      <td>224</td>\n",
       "      <td>1</td>\n",
       "      <td>-1</td>\n",
       "      <td>0</td>\n",
       "      <td>unknown</td>\n",
       "    </tr>\n",
       "    <tr>\n",
       "      <th>1</th>\n",
       "      <td>750001</td>\n",
       "      <td>44</td>\n",
       "      <td>management</td>\n",
       "      <td>married</td>\n",
       "      <td>tertiary</td>\n",
       "      <td>no</td>\n",
       "      <td>23</td>\n",
       "      <td>yes</td>\n",
       "      <td>no</td>\n",
       "      <td>cellular</td>\n",
       "      <td>3</td>\n",
       "      <td>apr</td>\n",
       "      <td>586</td>\n",
       "      <td>2</td>\n",
       "      <td>-1</td>\n",
       "      <td>0</td>\n",
       "      <td>unknown</td>\n",
       "    </tr>\n",
       "    <tr>\n",
       "      <th>2</th>\n",
       "      <td>750002</td>\n",
       "      <td>36</td>\n",
       "      <td>self-employed</td>\n",
       "      <td>married</td>\n",
       "      <td>primary</td>\n",
       "      <td>no</td>\n",
       "      <td>46</td>\n",
       "      <td>yes</td>\n",
       "      <td>yes</td>\n",
       "      <td>cellular</td>\n",
       "      <td>13</td>\n",
       "      <td>may</td>\n",
       "      <td>111</td>\n",
       "      <td>2</td>\n",
       "      <td>-1</td>\n",
       "      <td>0</td>\n",
       "      <td>unknown</td>\n",
       "    </tr>\n",
       "    <tr>\n",
       "      <th>3</th>\n",
       "      <td>750003</td>\n",
       "      <td>58</td>\n",
       "      <td>blue-collar</td>\n",
       "      <td>married</td>\n",
       "      <td>secondary</td>\n",
       "      <td>no</td>\n",
       "      <td>-1380</td>\n",
       "      <td>yes</td>\n",
       "      <td>yes</td>\n",
       "      <td>unknown</td>\n",
       "      <td>29</td>\n",
       "      <td>may</td>\n",
       "      <td>125</td>\n",
       "      <td>1</td>\n",
       "      <td>-1</td>\n",
       "      <td>0</td>\n",
       "      <td>unknown</td>\n",
       "    </tr>\n",
       "    <tr>\n",
       "      <th>4</th>\n",
       "      <td>750004</td>\n",
       "      <td>28</td>\n",
       "      <td>technician</td>\n",
       "      <td>single</td>\n",
       "      <td>secondary</td>\n",
       "      <td>no</td>\n",
       "      <td>1950</td>\n",
       "      <td>yes</td>\n",
       "      <td>no</td>\n",
       "      <td>cellular</td>\n",
       "      <td>22</td>\n",
       "      <td>jul</td>\n",
       "      <td>181</td>\n",
       "      <td>1</td>\n",
       "      <td>-1</td>\n",
       "      <td>0</td>\n",
       "      <td>unknown</td>\n",
       "    </tr>\n",
       "  </tbody>\n",
       "</table>\n",
       "</div>"
      ],
      "text/plain": [
       "       id  age            job  marital  education default  balance housing  \\\n",
       "0  750000   32    blue-collar  married  secondary      no     1397     yes   \n",
       "1  750001   44     management  married   tertiary      no       23     yes   \n",
       "2  750002   36  self-employed  married    primary      no       46     yes   \n",
       "3  750003   58    blue-collar  married  secondary      no    -1380     yes   \n",
       "4  750004   28     technician   single  secondary      no     1950     yes   \n",
       "\n",
       "  loan   contact  day month  duration  campaign  pdays  previous poutcome  \n",
       "0   no   unknown   21   may       224         1     -1         0  unknown  \n",
       "1   no  cellular    3   apr       586         2     -1         0  unknown  \n",
       "2  yes  cellular   13   may       111         2     -1         0  unknown  \n",
       "3  yes   unknown   29   may       125         1     -1         0  unknown  \n",
       "4   no  cellular   22   jul       181         1     -1         0  unknown  "
      ]
     },
     "metadata": {},
     "output_type": "display_data"
    }
   ],
   "source": [
    "# ===== Load and Inspect Data =====\n",
    "X = pd.read_csv(\"/kaggle/input/playground-series-s5e8/train.csv\")\n",
    "X_test = pd.read_csv(\"/kaggle/input/playground-series-s5e8/test.csv\")\n",
    "\n",
    "for name, df in [('TRAINING DATA', X), ('TESTING DATA', X_test)]:\n",
    "    print('-' * 50)\n",
    "    print(name + ':')\n",
    "    display(df.head())"
   ]
  },
  {
   "cell_type": "markdown",
   "id": "1e39214e",
   "metadata": {
    "papermill": {
     "duration": 0.002965,
     "end_time": "2025-09-01T11:42:25.009248",
     "exception": false,
     "start_time": "2025-09-01T11:42:25.006283",
     "status": "completed"
    },
    "tags": []
   },
   "source": [
    "### <span style=\"color:darkred\"> 4. Prepare Features\n",
    "\n",
    "In this section, the features are prepared for training. First, the id column is set as the index of both the training and testing datasets to uniquely identify rows. The target variable is then stored in a pandas Series called y and removed from the training dataset. Finally, columns with object data types are identified and converted to the categorical type, which enables efficient handling by models such as LightGBM and XGBoost."
   ]
  },
  {
   "cell_type": "code",
   "execution_count": 3,
   "id": "9fa7cfa9",
   "metadata": {
    "execution": {
     "iopub.execute_input": "2025-09-01T11:42:25.016402Z",
     "iopub.status.busy": "2025-09-01T11:42:25.015908Z",
     "iopub.status.idle": "2025-09-01T11:42:25.663861Z",
     "shell.execute_reply": "2025-09-01T11:42:25.663251Z"
    },
    "papermill": {
     "duration": 0.652968,
     "end_time": "2025-09-01T11:42:25.665200",
     "exception": false,
     "start_time": "2025-09-01T11:42:25.012232",
     "status": "completed"
    },
    "tags": []
   },
   "outputs": [],
   "source": [
    "# ===== Prepare Features =====\n",
    "X = X.set_index('id')\n",
    "X_test = X_test.set_index('id')\n",
    "\n",
    "y = X['y']\n",
    "X = X.drop(['y'], axis=1)\n",
    "\n",
    "categorical_cols = [col for col in X.columns if X[col].dtype == 'object']\n",
    "for col in categorical_cols:\n",
    "    X[col] = X[col].astype(\"category\")\n",
    "    X_test[col] = X_test[col].astype(\"category\")"
   ]
  },
  {
   "cell_type": "markdown",
   "id": "a64fbfd1",
   "metadata": {
    "papermill": {
     "duration": 0.003022,
     "end_time": "2025-09-01T11:42:25.671838",
     "exception": false,
     "start_time": "2025-09-01T11:42:25.668816",
     "status": "completed"
    },
    "tags": []
   },
   "source": [
    "### <span style=\"color:darkred\"> 5. XGBoost Model\n",
    "\n",
    "Now we define an XGBoost model with tuned hyperparameters. The objective is set to binary logistic because this is a binary classification problem and we want to predict probabilities. The evaluation metric is logloss, which works well for probabilistic binary classification tasks. The number of estimators is set to 10,000 to allow the model sufficient capacity for learning.\n",
    "\n",
    "We use a low learning rate of 0.02 to ensure slower and more stable learning, which typically improves generalization. Each tree’s maximum depth is set to 7 to control model complexity and reduce the risk of overfitting. We use 70% of the features for each tree to introduce randomness and promote better generalization. Categorical feature support is enabled for training. Early stopping rounds are set to 250, so training stops if the logloss on the validation set does not improve for 250 rounds. Finally, a random seed is set to ensure reproducibility."
   ]
  },
  {
   "cell_type": "code",
   "execution_count": 4,
   "id": "7567ed2c",
   "metadata": {
    "execution": {
     "iopub.execute_input": "2025-09-01T11:42:25.678620Z",
     "iopub.status.busy": "2025-09-01T11:42:25.678362Z",
     "iopub.status.idle": "2025-09-01T11:42:25.681998Z",
     "shell.execute_reply": "2025-09-01T11:42:25.681423Z"
    },
    "papermill": {
     "duration": 0.008286,
     "end_time": "2025-09-01T11:42:25.683068",
     "exception": false,
     "start_time": "2025-09-01T11:42:25.674782",
     "status": "completed"
    },
    "tags": []
   },
   "outputs": [],
   "source": [
    "# ===== Define XGBoost Model =====\n",
    "xgb = XGBClassifier(\n",
    "    objective='binary:logistic',\n",
    "    eval_metric='logloss',\n",
    "    n_estimators=10000,\n",
    "    learning_rate=0.02,\n",
    "    max_depth=7,\n",
    "    colsample_bytree=0.70,\n",
    "    enable_categorical=True,\n",
    "    early_stopping_rounds=250,\n",
    "    random_state=42\n",
    ")"
   ]
  },
  {
   "cell_type": "markdown",
   "id": "42ffc57b",
   "metadata": {
    "papermill": {
     "duration": 0.00285,
     "end_time": "2025-09-01T11:42:25.689027",
     "exception": false,
     "start_time": "2025-09-01T11:42:25.686177",
     "status": "completed"
    },
    "tags": []
   },
   "source": [
    "### <span style=\"color:darkred\"> 6. LightGBM Model\n",
    "\n",
    "In this step, we define the hyperparameters for the LightGBM model. We set the number of estimators to 10,000 for better predictions. A learning rate of 0.075 is used for steady and reliable learning. Each tree's maximum depth is set to 9, which provides a balance between model complexity and generalization.\n",
    "\n",
    "L1 and L2 regularization are applied: the lambda_l1 parameter is set to 0.85 and the lambda_l2 parameter is set to 3.50, helping to penalize large leaf output values and reduce overfitting. In each tree, we use 50% of the features and 80% of the data, introducing randomness for better generalization. Early stopping rounds are set to 250 to stop training once validation scores no longer improve. A random state is used for reproducibility, and verbosity is set to -1 to suppress output during training."
   ]
  },
  {
   "cell_type": "code",
   "execution_count": 5,
   "id": "5bd8c664",
   "metadata": {
    "execution": {
     "iopub.execute_input": "2025-09-01T11:42:25.695964Z",
     "iopub.status.busy": "2025-09-01T11:42:25.695751Z",
     "iopub.status.idle": "2025-09-01T11:42:25.699672Z",
     "shell.execute_reply": "2025-09-01T11:42:25.698963Z"
    },
    "papermill": {
     "duration": 0.008699,
     "end_time": "2025-09-01T11:42:25.700750",
     "exception": false,
     "start_time": "2025-09-01T11:42:25.692051",
     "status": "completed"
    },
    "tags": []
   },
   "outputs": [],
   "source": [
    "# ===== Define LightGBM Model =====\n",
    "lgbm = LGBMClassifier(\n",
    "    n_estimators=10000,\n",
    "    learning_rate= 0.075,\n",
    "    max_depth=9,\n",
    "    reg_alpha=0.85,\n",
    "    reg_lambda=3.50,\n",
    "    colsample_bytree=0.50,\n",
    "    subsample=0.80,\n",
    "    early_stopping_rounds=250,\n",
    "    random_state=42,\n",
    "    verbosity=-1\n",
    ")"
   ]
  },
  {
   "cell_type": "markdown",
   "id": "72fa9675",
   "metadata": {
    "papermill": {
     "duration": 0.002759,
     "end_time": "2025-09-01T11:42:25.707320",
     "exception": false,
     "start_time": "2025-09-01T11:42:25.704561",
     "status": "completed"
    },
    "tags": []
   },
   "source": [
    "### <span style=\"color:darkred\"> 7. Stratified 5-Fold Cross-Validation\n",
    "\n",
    "The following code uses stratified 5-fold cross-validation to train both of our models and generate predictions. First, two dictionaries are created: valid_preds, which will store out-of-fold predictions, and test_preds, which will store averaged predictions on the test set. Each dictionary has one key per model, with the values initialized as NumPy arrays of appropriate lengths filled with zeros.\n",
    "\n",
    "Next, an instance of StratifiedKFold is created with 5 splits. Shuffling is enabled to introduce randomness, and a fixed random state is set to ensure reproducibility.\n",
    "\n",
    "For each fold, the training data is split into training and validation sets using stratification to preserve the class distribution. Both the XGBoost and LightGBM models are then fitted on the training set, with the validation set used for early stopping. Verbose output for XGBoost is suppressed.\n",
    "\n",
    "Finally, we loop through each fitted model to generate out-of-fold predictions, which will be used for model evaluation, and test set predictions, which are averaged across folds. The predictions correspond to the estimated probabilities of the positive class, representing the likelihood that each client subscribes to the bank term deposit."
   ]
  },
  {
   "cell_type": "code",
   "execution_count": 6,
   "id": "ca437835",
   "metadata": {
    "execution": {
     "iopub.execute_input": "2025-09-01T11:42:25.714658Z",
     "iopub.status.busy": "2025-09-01T11:42:25.714067Z",
     "iopub.status.idle": "2025-09-01T12:16:19.924906Z",
     "shell.execute_reply": "2025-09-01T12:16:19.924216Z"
    },
    "papermill": {
     "duration": 2034.215983,
     "end_time": "2025-09-01T12:16:19.926380",
     "exception": false,
     "start_time": "2025-09-01T11:42:25.710397",
     "status": "completed"
    },
    "tags": []
   },
   "outputs": [],
   "source": [
    "# ===== Stratified 5-Fold Cross-Validation =====\n",
    "valid_preds = {'XGBOOST': np.zeros(len(X)), 'LIGHTGBM': np.zeros(len(X))}\n",
    "test_preds = {'XGBOOST': np.zeros(len(X_test)), 'LIGHTGBM': np.zeros(len(X_test))}\n",
    "\n",
    "skf = StratifiedKFold(n_splits=5, shuffle=True, random_state=42)\n",
    "\n",
    "for (train_idx, valid_idx) in skf.split(X, y):\n",
    "    X_train, X_valid = X.iloc[train_idx], X.iloc[valid_idx]\n",
    "    y_train, y_valid = y.iloc[train_idx], y.iloc[valid_idx]\n",
    "\n",
    "    xgb.fit(X_train, y_train, eval_set=[(X_valid, y_valid)], verbose=False)\n",
    "    lgbm.fit(X_train, y_train, eval_set=[(X_valid, y_valid)])\n",
    "\n",
    "    for name, model in [('XGBOOST', xgb), ('LIGHTGBM', lgbm)]:\n",
    "        valid_preds[name][valid_idx] = model.predict_proba(X_valid)[:, 1]\n",
    "        test_preds[name] += model.predict_proba(X_test)[:, 1] / skf.n_splits"
   ]
  },
  {
   "cell_type": "markdown",
   "id": "679bc79d",
   "metadata": {
    "papermill": {
     "duration": 0.002954,
     "end_time": "2025-09-01T12:16:19.933060",
     "exception": false,
     "start_time": "2025-09-01T12:16:19.930106",
     "status": "completed"
    },
    "tags": []
   },
   "source": [
    "### <span style=\"color:darkred\"> 8. Model Evaluation\n",
    "\n",
    "In this step, we calculate the ROC AUC score by comparing the true targets with the predictions made by each of the models, XGBoost and LightGBM."
   ]
  },
  {
   "cell_type": "code",
   "execution_count": 7,
   "id": "39a696b5",
   "metadata": {
    "execution": {
     "iopub.execute_input": "2025-09-01T12:16:19.940042Z",
     "iopub.status.busy": "2025-09-01T12:16:19.939614Z",
     "iopub.status.idle": "2025-09-01T12:16:20.591562Z",
     "shell.execute_reply": "2025-09-01T12:16:20.590773Z"
    },
    "papermill": {
     "duration": 0.656826,
     "end_time": "2025-09-01T12:16:20.592864",
     "exception": false,
     "start_time": "2025-09-01T12:16:19.936038",
     "status": "completed"
    },
    "tags": []
   },
   "outputs": [
    {
     "name": "stdout",
     "output_type": "stream",
     "text": [
      "XGBOOST - ROC AUC SCORE: 0.968388\n",
      "LIGHTGBM - ROC AUC SCORE: 0.969291\n"
     ]
    }
   ],
   "source": [
    "# === Model Evaluation =====\n",
    "for model in ['XGBOOST', 'LIGHTGBM']:\n",
    "    print(f'{model} - ROC AUC SCORE: {roc_auc_score(y, valid_preds[model]):.6f}')"
   ]
  },
  {
   "cell_type": "markdown",
   "id": "39e29e68",
   "metadata": {
    "papermill": {
     "duration": 0.003187,
     "end_time": "2025-09-01T12:16:20.599595",
     "exception": false,
     "start_time": "2025-09-01T12:16:20.596408",
     "status": "completed"
    },
    "tags": []
   },
   "source": [
    "### <span style=\"color:darkred\"> 9. Blending\n",
    "\n",
    "In this section, we blend predictions from two public notebooks with those generated by our own models to improve final prediction accuracy and leaderboard performance. Specifically, the public notebooks are [Playground S5E8: Enhanced LightGBM](https://www.kaggle.com/code/molozhenko/playground-s5e8-enhanced-lightgbm) and [Bank Term Deposit: Single LightGBM](https://www.kaggle.com/code/bizen250/bank-term-deposit-single-lightgbm), both of which employ LightGBM models with advanced hyperparameter tuning and basic feature engineering. Their cross-validation ROC AUC scores are 0.973362 and 0.971080, respectively.\n",
    "\n",
    "The code loads their test set predictions into NumPy arrays named sub1 and sub2. Before blending, we average the test predictions from our XGBoost and LightGBM models. We then apply weighted stacking to combine these predictions, assigning 15% weight to our averaged predictions, 50% to sub1, and 35% to sub2. These weights were chosen heuristically to balance contributions from each model.\n",
    "\n",
    "Blending leverages the complementary strengths of diverse models to improve prediction robustness and overall performance. This approach typically reduces overfitting and captures different patterns in the data, leading to better generalization. All public notebook predictions were used respecting their licenses and attributions."
   ]
  },
  {
   "cell_type": "code",
   "execution_count": 8,
   "id": "c3736470",
   "metadata": {
    "execution": {
     "iopub.execute_input": "2025-09-01T12:16:20.606544Z",
     "iopub.status.busy": "2025-09-01T12:16:20.606283Z",
     "iopub.status.idle": "2025-09-01T12:16:20.705986Z",
     "shell.execute_reply": "2025-09-01T12:16:20.705192Z"
    },
    "papermill": {
     "duration": 0.10472,
     "end_time": "2025-09-01T12:16:20.707406",
     "exception": false,
     "start_time": "2025-09-01T12:16:20.602686",
     "status": "completed"
    },
    "tags": []
   },
   "outputs": [],
   "source": [
    "# ===== Blending =====\n",
    "sub1 = np.load('/kaggle/input/playground-s5e8-enhanced-lightgbm/pred_conservative.npy')\n",
    "sub2 = np.load('/kaggle/input/k/bizen250/bank-term-deposit-single-lightgbm/pred.npy')\n",
    "\n",
    "mean_preds = (test_preds['XGBOOST'] + test_preds['LIGHTGBM']) / 2\n",
    "final_preds = 0.15 * mean_preds + 0.5 * sub1 + 0.35 * sub2"
   ]
  },
  {
   "cell_type": "markdown",
   "id": "5ef7cbef",
   "metadata": {
    "papermill": {
     "duration": 0.002996,
     "end_time": "2025-09-01T12:16:20.713808",
     "exception": false,
     "start_time": "2025-09-01T12:16:20.710812",
     "status": "completed"
    },
    "tags": []
   },
   "source": [
    "### <span style=\"color:darkred\"> 10. Create Submission File\n",
    "\n",
    "The final step is creating a CSV file containing the test set predictions, ready for submission to the competition."
   ]
  },
  {
   "cell_type": "code",
   "execution_count": 9,
   "id": "9f0d3c48",
   "metadata": {
    "execution": {
     "iopub.execute_input": "2025-09-01T12:16:20.721119Z",
     "iopub.status.busy": "2025-09-01T12:16:20.720395Z",
     "iopub.status.idle": "2025-09-01T12:16:21.230576Z",
     "shell.execute_reply": "2025-09-01T12:16:21.229764Z"
    },
    "papermill": {
     "duration": 0.515256,
     "end_time": "2025-09-01T12:16:21.232039",
     "exception": false,
     "start_time": "2025-09-01T12:16:20.716783",
     "status": "completed"
    },
    "tags": []
   },
   "outputs": [],
   "source": [
    "# ===== Create Submission File =====\n",
    "output = pd.DataFrame({'id': X_test.index, 'y': final_preds})\n",
    "output.to_csv('submission.csv', index=False)"
   ]
  }
 ],
 "metadata": {
  "kaggle": {
   "accelerator": "none",
   "dataSources": [
    {
     "databundleVersionId": 12937777,
     "isSourceIdPinned": false,
     "sourceId": 91719,
     "sourceType": "competition"
    },
    {
     "sourceId": 253761116,
     "sourceType": "kernelVersion"
    },
    {
     "sourceId": 253774345,
     "sourceType": "kernelVersion"
    }
   ],
   "dockerImageVersionId": 31089,
   "isGpuEnabled": false,
   "isInternetEnabled": true,
   "language": "python",
   "sourceType": "notebook"
  },
  "kernelspec": {
   "display_name": "Python 3",
   "language": "python",
   "name": "python3"
  },
  "language_info": {
   "codemirror_mode": {
    "name": "ipython",
    "version": 3
   },
   "file_extension": ".py",
   "mimetype": "text/x-python",
   "name": "python",
   "nbconvert_exporter": "python",
   "pygments_lexer": "ipython3",
   "version": "3.11.13"
  },
  "papermill": {
   "default_parameters": {},
   "duration": 2050.436731,
   "end_time": "2025-09-01T12:16:21.955223",
   "environment_variables": {},
   "exception": null,
   "input_path": "__notebook__.ipynb",
   "output_path": "__notebook__.ipynb",
   "parameters": {},
   "start_time": "2025-09-01T11:42:11.518492",
   "version": "2.6.0"
  }
 },
 "nbformat": 4,
 "nbformat_minor": 5
}
